{
 "cells": [
  {
   "cell_type": "markdown",
   "metadata": {
    "slideshow": {
     "slide_type": "slide"
    }
   },
   "source": [
    "# Опорная задача \n",
    "\n",
    "_(Я.И. Перельман, Занимательная геометрия)_\n",
    "\n",
    "У берега прямолинейной реки, задаваемой уравнением $y=2$, необходимо построить водонапорную башню, из которой вода доставлялась бы по прямолинейным трубам в города $A$ и $B$, расположенные в точках с координатами $A(1;1)$ и $B(3,5;0,5)$.\n",
    "\n",
    "В какой точке нужно её соорудить, чтобы общая длина труб от башни до обоих городов была наименьшей? \n",
    "\n",
    "В ответе укажите абсциссу искомой точки с точностью до $10^{-3}$.\n",
    "\n",
    "![](https://raw.githubusercontent.com/javanets/inf10-optimization/master/opt_river_problem.svg)"
   ]
  },
  {
   "cell_type": "code",
   "execution_count": null,
   "metadata": {},
   "outputs": [],
   "source": [
    "\n",
    "# Решите опорную задачу в данной ячейке\n",
    "\n"
   ]
  },
  {
   "cell_type": "markdown",
   "metadata": {
    "slideshow": {
     "slide_type": "slide"
    }
   },
   "source": [
    "## Задание 1.1\n",
    "\n",
    "Найти пару натуральных чисел, сумма которых равна 99, а произведение является максимально возможным среди всех таких пар чисел.\n",
    "\n",
    "Формализуйте постановку задачи и найдите решение."
   ]
  },
  {
   "cell_type": "markdown",
   "metadata": {
    "slideshow": {
     "slide_type": "fragment"
    }
   },
   "source": [
    "**Переменные**:"
   ]
  },
  {
   "cell_type": "markdown",
   "metadata": {
    "slideshow": {
     "slide_type": "fragment"
    }
   },
   "source": [
    " * $x \\in \\mathbb{N}$\n",
    " * $y \\in \\mathbb{N}$"
   ]
  },
  {
   "cell_type": "markdown",
   "metadata": {
    "slideshow": {
     "slide_type": "fragment"
    }
   },
   "source": [
    "**Целевая функция**:"
   ]
  },
  {
   "cell_type": "markdown",
   "metadata": {
    "slideshow": {
     "slide_type": "fragment"
    }
   },
   "source": [
    " * $x \\cdot y \\rightarrow \\max$"
   ]
  },
  {
   "cell_type": "markdown",
   "metadata": {
    "slideshow": {
     "slide_type": "fragment"
    }
   },
   "source": [
    "**Ограничения**:"
   ]
  },
  {
   "cell_type": "markdown",
   "metadata": {
    "slideshow": {
     "slide_type": "fragment"
    }
   },
   "source": [
    "* $x + y = 99$"
   ]
  },
  {
   "cell_type": "code",
   "execution_count": null,
   "metadata": {
    "slideshow": {
     "slide_type": "slide"
    }
   },
   "outputs": [],
   "source": [
    "\n",
    "# Решите задачу 1.1 в данной ячейке\n",
    "\n"
   ]
  },
  {
   "cell_type": "markdown",
   "metadata": {
    "slideshow": {
     "slide_type": "slide"
    }
   },
   "source": [
    "## Задание 1.2 (Демовариант КЕГЭ)\n",
    "\n",
    "В швейном цехе имеется 164 м ткани. На шитье одного халата требуется 4 м ткани, а одной пижамы 3 м. Сколько следует изготовить халатов и пижам для получения наибольшей прибыли от реализации продукции, если халат стоит 7 руб., а пижама 6 руб.?\n",
    "\n",
    "Известно, что требуется изготовить не менее 14 халатов и не менее одной пижамы."
   ]
  },
  {
   "cell_type": "markdown",
   "metadata": {
    "slideshow": {
     "slide_type": "fragment"
    }
   },
   "source": [
    "* Переменные\n",
    " * $p \\in \\mathbb{N}$ &mdash; количество халатов\n",
    " * $q \\in \\mathbb{N}$ &mdash; количество пижам"
   ]
  },
  {
   "cell_type": "markdown",
   "metadata": {
    "slideshow": {
     "slide_type": "fragment"
    }
   },
   "source": [
    "* Целевая функция\n",
    " * $7 \\cdot p + 6 \\cdot q \\rightarrow \\max$"
   ]
  },
  {
   "cell_type": "markdown",
   "metadata": {
    "slideshow": {
     "slide_type": "fragment"
    }
   },
   "source": [
    "* Ограничения\n",
    " * $4 \\cdot p + 3 \\cdot q \\leq 164$\n",
    " * $p \\geq 14$"
   ]
  },
  {
   "cell_type": "code",
   "execution_count": null,
   "metadata": {
    "slideshow": {
     "slide_type": "slide"
    }
   },
   "outputs": [],
   "source": [
    "\n",
    "# Решите задачу 1.2 в данной ячейке\n",
    "\n"
   ]
  },
  {
   "cell_type": "markdown",
   "metadata": {
    "slideshow": {
     "slide_type": "slide"
    }
   },
   "source": [
    "## Задание 1.3 (Демовариант КЕГЭ)\n",
    "\n",
    "Комплект мебели (парта и два стула) стоит 8500 рублей. Известно, что производитель М продает мебель упаковками по 6 комплектов в упаковке, а производитель  N – по 4 комплекта в упаковке. Какое максимальное количество комплектов мебели можно купить на 150 тыс. рублей?"
   ]
  },
  {
   "cell_type": "code",
   "execution_count": null,
   "metadata": {
    "slideshow": {
     "slide_type": "slide"
    }
   },
   "outputs": [],
   "source": [
    "\n",
    "# Решите задачу 1.3 в данной ячейке\n",
    "\n"
   ]
  },
  {
   "cell_type": "markdown",
   "metadata": {
    "slideshow": {
     "slide_type": "slide"
    }
   },
   "source": [
    "## Задание 1.4\n",
    "\n",
    "Найти кратчайшее и наибольшее расстояния от точки $A(2;0)$ до окружности $x^2 + y^2 = 1$."
   ]
  },
  {
   "cell_type": "code",
   "execution_count": null,
   "metadata": {},
   "outputs": [],
   "source": [
    "\n",
    "# Решите задачу 1.4 в данной ячейке\n",
    "\n"
   ]
  },
  {
   "cell_type": "markdown",
   "metadata": {
    "slideshow": {
     "slide_type": "slide"
    }
   },
   "source": [
    "## Задание 1.5\n",
    "\n",
    "Найти наибольшее значение **суммы квадратов** двух чисел, **сумма** которых равна 1."
   ]
  },
  {
   "cell_type": "code",
   "execution_count": null,
   "metadata": {},
   "outputs": [],
   "source": [
    "\n",
    "# Решите задачу 1.5 в данной ячейке\n",
    "\n"
   ]
  },
  {
   "cell_type": "markdown",
   "metadata": {
    "slideshow": {
     "slide_type": "slide"
    }
   },
   "source": [
    "## Задание 1.6\n",
    "\n",
    "Найти наименьшее значение **суммы кубов** двух неотрицательных чисел, **произведение** которых равно 1."
   ]
  },
  {
   "cell_type": "code",
   "execution_count": 1,
   "metadata": {
    "slideshow": {
     "slide_type": "slide"
    }
   },
   "outputs": [],
   "source": [
    "\n",
    "# Решите задачу 1.6 в данной ячейке\n",
    "\n"
   ]
  },
  {
   "cell_type": "markdown",
   "metadata": {
    "slideshow": {
     "slide_type": "slide"
    }
   },
   "source": [
    "## Задание 1.7 (Демовариант КЕГЭ)\n",
    "\n",
    "На покупку мебели выделено 500 тыс. рублей. Стоимость одного комплекта составляет 18 тыс. рублей. Найдите все наборы вариантов покупки максимального количества комплектов мебели, при условии, что производитель М продает мебель упаковками по 6 комплектов в упаковке, а производитель N – по 4 комплекта в упаковке."
   ]
  },
  {
   "cell_type": "code",
   "execution_count": 2,
   "metadata": {
    "slideshow": {
     "slide_type": "slide"
    }
   },
   "outputs": [],
   "source": [
    "\n",
    "# Решите задачу 1.7 в данной ячейке\n",
    "\n"
   ]
  },
  {
   "cell_type": "markdown",
   "metadata": {
    "slideshow": {
     "slide_type": "slide"
    }
   },
   "source": [
    "## Задание 1.8 (Затруднение жестянщика)\n",
    "\n",
    "_(Я.И. Перельман, Занимательная геометрия)_\n",
    "\n",
    "Жестянщику заказали изготовить из квадратного куска жести в 60 см ширины коробку без крышки с квадратным дном и поставили условием, чтобы коробка имела наибольшую вместимость. Жестянщик быстро додумался, что нужно вырезать квадраты по краям и загнуть стороны вверх, но долго примерял, какой ширины должны быть вырезаемые квадраты и никак не мог прийти к определённому решению. Не удастся ли читателю выручить его из затруднения?\n",
    "\n",
    "![](https://raw.githubusercontent.com/javanets/inf10-optimization/master/opt_box.svg)"
   ]
  },
  {
   "cell_type": "code",
   "execution_count": 3,
   "metadata": {},
   "outputs": [],
   "source": [
    "\n",
    "# Решите задачу 1.8 в данной ячейке\n",
    "\n"
   ]
  }
 ],
 "metadata": {
  "kernelspec": {
   "display_name": "Python 3",
   "language": "python",
   "name": "python3"
  },
  "language_info": {
   "codemirror_mode": {
    "name": "ipython",
    "version": 3
   },
   "file_extension": ".py",
   "mimetype": "text/x-python",
   "name": "python",
   "nbconvert_exporter": "python",
   "pygments_lexer": "ipython3",
   "version": "3.7.4"
  },
  "livereveal": {
   "transition": "none"
  }
 },
 "nbformat": 4,
 "nbformat_minor": 2
}
